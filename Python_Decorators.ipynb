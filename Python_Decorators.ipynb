{
  "cells": [
    {
      "cell_type": "markdown",
      "metadata": {
        "id": "JXi-ttZE0LzH"
      },
      "source": [
        "### Python Decorators"
      ]
    },
    {
      "cell_type": "code",
      "execution_count": 2,
      "metadata": {
        "id": "tS497BoM0LzJ"
      },
      "outputs": [],
      "source": [
        "## function copy"
      ]
    },
    {
      "cell_type": "code",
      "execution_count": 3,
      "metadata": {
        "id": "zNtMSYpJ0LzL"
      },
      "outputs": [],
      "source": [
        "def welcome():\n",
        "    return \"Hi\""
      ]
    },
    {
      "cell_type": "code",
      "execution_count": 4,
      "metadata": {
        "id": "Ec8M2_7O0LzL"
      },
      "outputs": [],
      "source": [
        "wel=welcome()\n",
        "del welcome"
      ]
    },
    {
      "cell_type": "code",
      "execution_count": 17,
      "metadata": {
        "id": "peSU0oyr0LzL",
        "outputId": "1530eecc-e8d0-453d-c76a-5f795bc6acbf",
        "colab": {
          "base_uri": "https://localhost:8080/",
          "height": 35
        }
      },
      "outputs": [
        {
          "output_type": "execute_result",
          "data": {
            "text/plain": [
              "'Hi'"
            ],
            "application/vnd.google.colaboratory.intrinsic+json": {
              "type": "string"
            }
          },
          "metadata": {},
          "execution_count": 17
        }
      ],
      "source": [
        "wel"
      ]
    },
    {
      "cell_type": "code",
      "execution_count": 6,
      "metadata": {
        "id": "Hne7hfmN0LzM",
        "outputId": "0ddd8820-800e-4b57-ee9a-074bf154f4c0",
        "colab": {
          "base_uri": "https://localhost:8080/",
          "height": 176
        }
      },
      "outputs": [
        {
          "output_type": "error",
          "ename": "NameError",
          "evalue": "ignored",
          "traceback": [
            "\u001b[0;31m---------------------------------------------------------------------------\u001b[0m",
            "\u001b[0;31mNameError\u001b[0m                                 Traceback (most recent call last)",
            "\u001b[0;32m<ipython-input-6-a401d7101853>\u001b[0m in \u001b[0;36m<cell line: 1>\u001b[0;34m()\u001b[0m\n\u001b[0;32m----> 1\u001b[0;31m \u001b[0mwelcome\u001b[0m\u001b[0;34m(\u001b[0m\u001b[0;34m)\u001b[0m\u001b[0;34m\u001b[0m\u001b[0;34m\u001b[0m\u001b[0m\n\u001b[0m",
            "\u001b[0;31mNameError\u001b[0m: name 'welcome' is not defined"
          ]
        }
      ],
      "source": [
        "welcome()"
      ]
    },
    {
      "cell_type": "code",
      "execution_count": 7,
      "metadata": {
        "id": "zs44D5Eo0LzM"
      },
      "outputs": [],
      "source": [
        "### Closures\n",
        "def main_welcome(msg):\n",
        "\n",
        "    def sub_welcome_class():\n",
        "        print(\"Hi good Morning\")\n",
        "        print(msg)\n",
        "        print(\"how are you\")\n",
        "    return sub_welcome_class()"
      ]
    },
    {
      "cell_type": "code",
      "execution_count": 8,
      "metadata": {
        "id": "cxbOYDYv0LzN",
        "outputId": "d15303fe-6234-4608-9c47-a7d3b42fbbc8",
        "colab": {
          "base_uri": "https://localhost:8080/"
        }
      },
      "outputs": [
        {
          "output_type": "stream",
          "name": "stdout",
          "text": [
            "Hi good Morning\n",
            "Krish\n",
            "how are you\n"
          ]
        }
      ],
      "source": [
        "main_welcome(\"Krish\")"
      ]
    },
    {
      "cell_type": "code",
      "execution_count": 9,
      "metadata": {
        "id": "q1yUwe3D0LzN"
      },
      "outputs": [],
      "source": [
        "### Closures & initial Decorators\n",
        "def main_welcome(func):\n",
        "\n",
        "    def sub_welcome_class():\n",
        "        print(\"Hi good Morning\")\n",
        "        print(func([1,2,3,4,5,6]))\n",
        "        print(\"how are you\")\n",
        "    return sub_welcome_class()"
      ]
    },
    {
      "cell_type": "code",
      "execution_count": 10,
      "metadata": {
        "id": "6hh-Nu8W0LzO",
        "outputId": "90e48185-3b52-4217-995b-7f8a176071af",
        "colab": {
          "base_uri": "https://localhost:8080/"
        }
      },
      "outputs": [
        {
          "output_type": "stream",
          "name": "stdout",
          "text": [
            "Hi good Morning\n",
            "6\n",
            "how are you\n"
          ]
        }
      ],
      "source": [
        "main_welcome(len)"
      ]
    },
    {
      "cell_type": "code",
      "execution_count": 11,
      "metadata": {
        "id": "KthL-iDm0LzP"
      },
      "outputs": [],
      "source": [
        "### Decorators\n",
        "def main_welcome(func):\n",
        "\n",
        "    def sub_welcome_class():\n",
        "        print(\"Hi good Morning\")\n",
        "        func()\n",
        "        print(\"how are you\")\n",
        "    return sub_welcome_class"
      ]
    },
    {
      "cell_type": "code",
      "source": [
        "def channel_name():\n",
        "    print(\"Hello I am Hemanth\")"
      ],
      "metadata": {
        "id": "NQ1XwJqn0scm"
      },
      "execution_count": 12,
      "outputs": []
    },
    {
      "cell_type": "code",
      "execution_count": 13,
      "metadata": {
        "id": "tTsSMP2Z0LzP",
        "outputId": "6b7c6935-bceb-4be6-aa67-87ac7285b7a7",
        "colab": {
          "base_uri": "https://localhost:8080/"
        }
      },
      "outputs": [
        {
          "output_type": "execute_result",
          "data": {
            "text/plain": [
              "<function __main__.main_welcome.<locals>.sub_welcome_class()>"
            ]
          },
          "metadata": {},
          "execution_count": 13
        }
      ],
      "source": [
        "main_welcome(channel_name)"
      ]
    },
    {
      "cell_type": "code",
      "execution_count": 14,
      "metadata": {
        "id": "C0dHEt-G0LzP"
      },
      "outputs": [],
      "source": [
        "@main_welcome\n",
        "\n",
        "def channel_name1():\n",
        "    print(\"Hello I am Hemanth\")"
      ]
    },
    {
      "cell_type": "code",
      "execution_count": 15,
      "metadata": {
        "id": "qekVgf-10LzQ",
        "outputId": "638689a4-f492-4445-91fc-a705dab75101",
        "colab": {
          "base_uri": "https://localhost:8080/"
        }
      },
      "outputs": [
        {
          "output_type": "stream",
          "name": "stdout",
          "text": [
            "Hi good Morning\n",
            "Hello I am Hemanth\n",
            "how are you\n"
          ]
        }
      ],
      "source": [
        "channel_name1()"
      ]
    },
    {
      "cell_type": "code",
      "source": [],
      "metadata": {
        "id": "qd7hrAZHYW5P"
      },
      "execution_count": null,
      "outputs": []
    }
  ],
  "metadata": {
    "kernelspec": {
      "display_name": "Python 3",
      "language": "python",
      "name": "python3"
    },
    "language_info": {
      "codemirror_mode": {
        "name": "ipython",
        "version": 3
      },
      "file_extension": ".py",
      "mimetype": "text/x-python",
      "name": "python",
      "nbconvert_exporter": "python",
      "pygments_lexer": "ipython3",
      "version": "3.7.7"
    },
    "colab": {
      "provenance": []
    }
  },
  "nbformat": 4,
  "nbformat_minor": 0
}