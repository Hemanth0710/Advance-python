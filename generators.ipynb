{
 "cells": [
  {
   "cell_type": "code",
   "execution_count": 7,
   "id": "1e807a43",
   "metadata": {},
   "outputs": [
    {
     "name": "stdout",
     "output_type": "stream",
     "text": [
      "'56'\n"
     ]
    },
    {
     "ename": "ValueError",
     "evalue": "invalid literal for int() with base 10: \"'56'\"",
     "output_type": "error",
     "traceback": [
      "\u001b[1;31m---------------------------------------------------------------------------\u001b[0m",
      "\u001b[1;31mValueError\u001b[0m                                Traceback (most recent call last)",
      "Cell \u001b[1;32mIn[7], line 7\u001b[0m\n\u001b[0;32m      5\u001b[0m         x,y\u001b[38;5;241m=\u001b[39my,x\u001b[38;5;241m+\u001b[39my\n\u001b[0;32m      6\u001b[0m         \u001b[38;5;28;01mreturn\u001b[39;00m x\n\u001b[1;32m----> 7\u001b[0m n\u001b[38;5;241m=\u001b[39m\u001b[38;5;28;43mint\u001b[39;49m\u001b[43m(\u001b[49m\u001b[38;5;28;43minput\u001b[39;49m\u001b[43m(\u001b[49m\u001b[43m)\u001b[49m\u001b[43m)\u001b[49m\n\u001b[0;32m      8\u001b[0m x\u001b[38;5;241m=\u001b[39m[a \u001b[38;5;28;01mfor\u001b[39;00m a \u001b[38;5;129;01min\u001b[39;00m hs_gen(n)]\n\u001b[0;32m      9\u001b[0m \u001b[38;5;28mprint\u001b[39m(x)\n",
      "\u001b[1;31mValueError\u001b[0m: invalid literal for int() with base 10: \"'56'\""
     ]
    }
   ],
   "source": [
    "#fibb using generators\n",
    "def hs_gen(n):\n",
    "    x,y=0,1\n",
    "    for i in range(n):\n",
    "        x,y=y,x+y\n",
    "        yield x\n",
    "n=int(input())\n",
    "x=[a for a in hs_gen(n)]\n",
    "print(x)"
   ]
  },
  {
   "cell_type": "code",
   "execution_count": 11,
   "id": "6fad1602",
   "metadata": {},
   "outputs": [
    {
     "name": "stdout",
     "output_type": "stream",
     "text": [
      "False\n"
     ]
    }
   ],
   "source": [
    "def isprime(n):\n",
    "    boo=True\n",
    "    if n==1:\n",
    "        boo=False\n",
    "    elif n==2:\n",
    "        boo=True\n",
    "    else:\n",
    "        for i in range(2,n):\n",
    "            if n%i==0:\n",
    "                boo=False\n",
    "    return boo\n",
    "print(isprime(27))"
   ]
  },
  {
   "cell_type": "code",
   "execution_count": 14,
   "id": "459f9723",
   "metadata": {},
   "outputs": [],
   "source": [
    "list1=[1,2,3,4,5,6,6,7]\n",
    "iterable=iter(list)"
   ]
  },
  {
   "cell_type": "code",
   "execution_count": 11,
   "id": "0819d853",
   "metadata": {},
   "outputs": [
    {
     "name": "stdout",
     "output_type": "stream",
     "text": [
      "1\n",
      "2\n",
      "3\n",
      "4\n",
      "5\n",
      "6\n",
      "6\n",
      "7\n"
     ]
    }
   ],
   "source": [
    "for i in iterable:\n",
    "    print(i)"
   ]
  },
  {
   "cell_type": "code",
   "execution_count": 13,
   "id": "11d9c0a0",
   "metadata": {},
   "outputs": [
    {
     "name": "stdout",
     "output_type": "stream",
     "text": [
      "1\n"
     ]
    }
   ],
   "source": [
    "print(next(iterable))"
   ]
  },
  {
   "cell_type": "code",
   "execution_count": 29,
   "id": "f26a337a",
   "metadata": {},
   "outputs": [
    {
     "data": {
      "text/plain": [
       "<generator object square at 0x000002F163EC33E0>"
      ]
     },
     "execution_count": 29,
     "metadata": {},
     "output_type": "execute_result"
    }
   ],
   "source": [
    "def square(n):\n",
    "    for i in range(n):\n",
    "        yield i**2\n",
    "square(3)"
   ]
  },
  {
   "cell_type": "code",
   "execution_count": 31,
   "id": "9f79218d",
   "metadata": {},
   "outputs": [],
   "source": [
    "y=[i for i in square(3)]"
   ]
  },
  {
   "cell_type": "code",
   "execution_count": 32,
   "id": "f51d9554",
   "metadata": {},
   "outputs": [
    {
     "data": {
      "text/plain": [
       "[0, 1, 4]"
      ]
     },
     "execution_count": 32,
     "metadata": {},
     "output_type": "execute_result"
    }
   ],
   "source": [
    "y"
   ]
  },
  {
   "cell_type": "code",
   "execution_count": 37,
   "id": "14383993",
   "metadata": {},
   "outputs": [
    {
     "data": {
      "text/plain": [
       "[9, 16, 25, 36]"
      ]
     },
     "execution_count": 37,
     "metadata": {},
     "output_type": "execute_result"
    }
   ],
   "source": [
    "#Decorators\n",
    "def square1(func):\n",
    "    def inner():\n",
    "        num=func()\n",
    "        return [i**2 for i in num]\n",
    "    return inner\n",
    "\n",
    "@square1\n",
    "def func():\n",
    "    return [3,4,5,6]\n",
    "\n",
    "func()"
   ]
  },
  {
   "cell_type": "code",
   "execution_count": 5,
   "id": "5d4fa9e0",
   "metadata": {},
   "outputs": [
    {
     "ename": "TypeError",
     "evalue": "square2.<locals>.inner() takes 0 positional arguments but 1 was given",
     "output_type": "error",
     "traceback": [
      "\u001b[1;31m---------------------------------------------------------------------------\u001b[0m",
      "\u001b[1;31mTypeError\u001b[0m                                 Traceback (most recent call last)",
      "Cell \u001b[1;32mIn[5], line 26\u001b[0m\n\u001b[0;32m     21\u001b[0m \u001b[38;5;129m@square2\u001b[39m\n\u001b[0;32m     22\u001b[0m \u001b[38;5;129m@prime\u001b[39m\n\u001b[0;32m     23\u001b[0m \u001b[38;5;28;01mdef\u001b[39;00m \u001b[38;5;21mfunc1\u001b[39m(lis):   \n\u001b[0;32m     24\u001b[0m     \u001b[38;5;28;01mreturn\u001b[39;00m [\u001b[38;5;241m3\u001b[39m,\u001b[38;5;241m4\u001b[39m,\u001b[38;5;241m5\u001b[39m,\u001b[38;5;241m6\u001b[39m,\u001b[38;5;241m7\u001b[39m,\u001b[38;5;241m8\u001b[39m]\n\u001b[1;32m---> 26\u001b[0m \u001b[43mfunc1\u001b[49m\u001b[43m(\u001b[49m\u001b[43mlis\u001b[49m\u001b[43m)\u001b[49m\n",
      "\u001b[1;31mTypeError\u001b[0m: square2.<locals>.inner() takes 0 positional arguments but 1 was given"
     ]
    }
   ],
   "source": [
    "def square2(func1):\n",
    "    def inner():\n",
    "        num=func1()\n",
    "        return [i**2 for i in num]\n",
    "    return inner\n",
    "\n",
    "def prime(func1):\n",
    "    def inner_one():\n",
    "        prime=[]\n",
    "        for i in func1:\n",
    "            count=0\n",
    "            for j in range(0,i):\n",
    "                if i%j==0:\n",
    "                    count+=1\n",
    "            if count<2:\n",
    "                prime.append(i)\n",
    "            return prime\n",
    "    return inner_one\n",
    "\n",
    "\n",
    "@square2\n",
    "@prime\n",
    "def func1(lis):   \n",
    "    return [3,4,5,6,7,8]\n",
    "\n",
    "func1(lis)"
   ]
  },
  {
   "cell_type": "code",
   "execution_count": null,
   "id": "c8da81de",
   "metadata": {},
   "outputs": [],
   "source": []
  }
 ],
 "metadata": {
  "kernelspec": {
   "display_name": "Python 3 (ipykernel)",
   "language": "python",
   "name": "python3"
  },
  "language_info": {
   "codemirror_mode": {
    "name": "ipython",
    "version": 3
   },
   "file_extension": ".py",
   "mimetype": "text/x-python",
   "name": "python",
   "nbconvert_exporter": "python",
   "pygments_lexer": "ipython3",
   "version": "3.10.9"
  }
 },
 "nbformat": 4,
 "nbformat_minor": 5
}
