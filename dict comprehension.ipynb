{
 "cells": [
  {
   "cell_type": "code",
   "execution_count": 1,
   "id": "23af0f68",
   "metadata": {},
   "outputs": [
    {
     "name": "stdout",
     "output_type": "stream",
     "text": [
      "{1: 4, 2: 5, 3: 6}\n"
     ]
    }
   ],
   "source": [
    "lis1=[1,2,3]\n",
    "lis2=[4,5,6]\n",
    "x=dict(zip(lis1,lis2))\n",
    "print(x)"
   ]
  },
  {
   "cell_type": "code",
   "execution_count": 2,
   "id": "bc9bc771",
   "metadata": {},
   "outputs": [
    {
     "name": "stdout",
     "output_type": "stream",
     "text": [
      "(1, 4, 7)\n",
      "(2, 5, 8)\n",
      "(3, 6, 9)\n"
     ]
    }
   ],
   "source": [
    "lis1=[1,2,3]\n",
    "lis2=[4,5,6]\n",
    "lis3=[7,8,9]\n",
    "x=zip(lis1,lis2,lis3)\n",
    "for v in x:\n",
    "    print(v)"
   ]
  },
  {
   "cell_type": "code",
   "execution_count": 13,
   "id": "b44275cc",
   "metadata": {},
   "outputs": [
    {
     "name": "stdout",
     "output_type": "stream",
     "text": [
      "{1: 'hi', 2: 'namasthey', 3: 'kya huwa', 4: 5, 5: 6, 6: 7}\n"
     ]
    }
   ],
   "source": [
    "dic1={1:\"hi\",2:\"namasthey\",3:\"kya huwa\"}\n",
    "dic2={4:5,5:6,6:7}\n",
    "print({**dic1,**dic2})"
   ]
  },
  {
   "cell_type": "code",
   "execution_count": 20,
   "id": "711519a2",
   "metadata": {},
   "outputs": [
    {
     "name": "stdout",
     "output_type": "stream",
     "text": [
      "{1: {1: 'hi', 2: 'namasthey', 3: 'kya huwa'}, 'jeep': {1: 'hi', 2: 'namasthey', 3: 'kya huwa'}, (1, 2, 3): {1: 'hi', 2: 'namasthey', 3: 'kya huwa'}}\n"
     ]
    }
   ],
   "source": [
    "dic1={1:\"hi\",2:\"namasthey\",3:\"kya huwa\"}\n",
    "lis=[1,\"jeep\",(1,2,3)]\n",
    "x=dict.fromkeys(lis,dic1)\n",
    "print(x)"
   ]
  },
  {
   "cell_type": "code",
   "execution_count": 32,
   "id": "c5d22c87",
   "metadata": {},
   "outputs": [
    {
     "name": "stdout",
     "output_type": "stream",
     "text": [
      "dict_keys([1, 2, 3])\n",
      "dict_values(['hi', 'namasthey', 'kya huwa'])\n",
      "{1: 'hi', 2: 'namasthey', 3: 'kya huwa'}\n"
     ]
    }
   ],
   "source": [
    "dic1={1:\"hi\",2:\"namasthey\",3:\"kya huwa\"}\n",
    "x={a:dic1[a] for a in dic1}\n",
    "print(dic1.keys())\n",
    "print(dic1.values())\n",
    "print(x)\n"
   ]
  },
  {
   "cell_type": "code",
   "execution_count": 34,
   "id": "de827011",
   "metadata": {},
   "outputs": [
    {
     "ename": "NameError",
     "evalue": "name 'dic1' is not defined",
     "output_type": "error",
     "traceback": [
      "\u001b[1;31m---------------------------------------------------------------------------\u001b[0m",
      "\u001b[1;31mNameError\u001b[0m                                 Traceback (most recent call last)",
      "Cell \u001b[1;32mIn[34], line 3\u001b[0m\n\u001b[0;32m      1\u001b[0m dic1\u001b[38;5;241m=\u001b[39m{\u001b[38;5;241m1\u001b[39m:\u001b[38;5;124m\"\u001b[39m\u001b[38;5;124mhi\u001b[39m\u001b[38;5;124m\"\u001b[39m,\u001b[38;5;241m2\u001b[39m:\u001b[38;5;124m\"\u001b[39m\u001b[38;5;124mnamasthey\u001b[39m\u001b[38;5;124m\"\u001b[39m,\u001b[38;5;241m3\u001b[39m:\u001b[38;5;124m\"\u001b[39m\u001b[38;5;124mkya huwa\u001b[39m\u001b[38;5;124m\"\u001b[39m}\n\u001b[0;32m      2\u001b[0m \u001b[38;5;28;01mdel\u001b[39;00m dic1\n\u001b[1;32m----> 3\u001b[0m \u001b[38;5;28mprint\u001b[39m(\u001b[43mdic1\u001b[49m)\n",
      "\u001b[1;31mNameError\u001b[0m: name 'dic1' is not defined"
     ]
    }
   ],
   "source": [
    "dic1={1:\"hi\",2:\"namasthey\",3:\"kya huwa\"}\n",
    "del dic1\n",
    "print(dic1)"
   ]
  },
  {
   "cell_type": "code",
   "execution_count": 41,
   "id": "fa865ddc",
   "metadata": {},
   "outputs": [
    {
     "name": "stdout",
     "output_type": "stream",
     "text": [
      "{2: 'namasthey', 3: 'kya huwa', 4: 'hi'}\n"
     ]
    }
   ],
   "source": [
    "dic1={1:\"hi\",2:\"namasthey\",3:\"kya huwa\"}\n",
    "dic1[4]=\"hi\"\n",
    "del dic1[1]\n",
    "print(dic1)"
   ]
  },
  {
   "cell_type": "code",
   "execution_count": 43,
   "id": "f4dfe28b",
   "metadata": {},
   "outputs": [
    {
     "name": "stdout",
     "output_type": "stream",
     "text": [
      "3\n"
     ]
    }
   ],
   "source": [
    "dic1={12:\"hi\",25:\"namasthey\",3:\"kya huwa\"}\n",
    "x=min({x for x in dic1.keys()})\n",
    "print(x)"
   ]
  },
  {
   "cell_type": "code",
   "execution_count": 48,
   "id": "6aa5f053",
   "metadata": {},
   "outputs": [
    {
     "name": "stdout",
     "output_type": "stream",
     "text": [
      "{4: {1: 'hi', 2: 'namasthey', 3: 'hey'}, 'jeep': {1: 'hi', 2: 'namasthey', 3: 'hey'}, (5, 6, 7): {1: 'hi', 2: 'namasthey', 3: 'hey'}}\n"
     ]
    }
   ],
   "source": [
    "dic1={1:\"hi\",2:\"namasthey\",3:\"kya huwa\"}\n",
    "lis=[4,\"jeep\",(5,6,7)]\n",
    "x=dict.fromkeys(lis,dic1)\n",
    "x[4][3]=\"hey\"\n",
    "print(x)"
   ]
  },
  {
   "cell_type": "code",
   "execution_count": null,
   "id": "45168aff",
   "metadata": {},
   "outputs": [],
   "source": []
  }
 ],
 "metadata": {
  "kernelspec": {
   "display_name": "Python 3 (ipykernel)",
   "language": "python",
   "name": "python3"
  },
  "language_info": {
   "codemirror_mode": {
    "name": "ipython",
    "version": 3
   },
   "file_extension": ".py",
   "mimetype": "text/x-python",
   "name": "python",
   "nbconvert_exporter": "python",
   "pygments_lexer": "ipython3",
   "version": "3.10.9"
  }
 },
 "nbformat": 4,
 "nbformat_minor": 5
}
